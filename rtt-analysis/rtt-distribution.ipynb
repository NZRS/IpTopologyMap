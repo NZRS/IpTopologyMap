{
 "metadata": {
  "kernelspec": {
   "display_name": "Python 2",
   "language": "python",
   "name": "python2"
  },
  "language_info": {
   "codemirror_mode": {
    "name": "ipython",
    "version": 2
   },
   "file_extension": ".py",
   "mimetype": "text/x-python",
   "name": "python",
   "nbconvert_exporter": "python",
   "pygments_lexer": "ipython2",
   "version": "2.7.9"
  },
  "name": ""
 },
 "nbformat": 3,
 "nbformat_minor": 0,
 "worksheets": [
  {
   "cells": [
    {
     "cell_type": "code",
     "collapsed": false,
     "input": [
      "import pandas as pd\n",
      "import matplotlib as mpl\n",
      "from pandas import Series\n",
      "from numpy.random import seed, choice"
     ],
     "language": "python",
     "metadata": {},
     "outputs": []
    },
    {
     "cell_type": "code",
     "collapsed": false,
     "input": [
      "df = pd.read_json(\"all-link-rtts.json\")\n",
      "df.columns = [\"rtt\"]"
     ],
     "language": "python",
     "metadata": {},
     "outputs": []
    },
    {
     "cell_type": "markdown",
     "metadata": {},
     "source": [
      "# Total\n",
      "This cell generates a histogram from all RTTs."
     ]
    },
    {
     "cell_type": "code",
     "collapsed": false,
     "input": [
      "BIN_WD = 3\n",
      "RANGE = 15\n",
      "\n",
      "s = Series(df[\"rtt\"])\n",
      "s.hist(bins=[BIN_WD*x for x in range(-RANGE, RANGE)], normed=True, alpha=0.7, color=\"c\")\n",
      "plt.show()"
     ],
     "language": "python",
     "metadata": {},
     "outputs": []
    },
    {
     "cell_type": "markdown",
     "metadata": {},
     "source": [
      "#Sampling\n",
      "This cell generates histograms by sampling the RTTs."
     ]
    },
    {
     "cell_type": "code",
     "collapsed": false,
     "input": [
      "COLORS = [\"r\", \"c\", \"k\", \"y\", \"m\"]\n",
      "SAMPLE_SIZE = 100\n",
      "BIN_WD = 3\n",
      "RANGE = 15\n",
      "seed(None)\n",
      "\n",
      "for i, c in enumerate(COLORS):\n",
      "    sample = choice(df[\"rtt\"], SAMPLE_SIZE)\n",
      "    s = Series(sample)\n",
      "    s.hist(bins=[BIN_WD*x for x in range (-RANGE,RANGE)], normed=True, alpha=0.3, color=c)\n",
      "\n",
      "plt.show()"
     ],
     "language": "python",
     "metadata": {},
     "outputs": []
    },
    {
     "cell_type": "code",
     "collapsed": true,
     "input": [],
     "language": "python",
     "metadata": {},
     "outputs": []
    }
   ],
   "metadata": {}
  }
 ]
}